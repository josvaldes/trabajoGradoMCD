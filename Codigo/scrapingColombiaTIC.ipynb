{
 "cells": [
  {
   "cell_type": "markdown",
   "metadata": {},
   "source": [
    "Inicio del programa"
   ]
  },
  {
   "cell_type": "markdown",
   "metadata": {},
   "source": [
    "Scraping pagina Web Colombia TIC"
   ]
  },
  {
   "cell_type": "code",
   "execution_count": 56,
   "metadata": {},
   "outputs": [
    {
     "name": "stdout",
     "output_type": "stream",
     "text": [
      "Se encontró la sección 'Destacados'.\n",
      "URL del artículo: https://colombiatic.mintic.gov.co/679/w3-article-397520.html\n",
      "Nombre esperado del archivo: reporte_tic_segundo_trimestre_2024.xlsx\n",
      "El archivo 'reporte_tic_segundo_trimestre_2024.xlsx' ya existe. No se realizará la descarga.\n"
     ]
    }
   ],
   "source": [
    "import os\n",
    "import re\n",
    "import requests\n",
    "from selenium import webdriver\n",
    "from selenium.webdriver.chrome.service import Service\n",
    "from selenium.webdriver.common.by import By\n",
    "from selenium.webdriver.support.ui import WebDriverWait\n",
    "from selenium.webdriver.support import expected_conditions as EC\n",
    "import pandas as pd\n",
    "\n",
    "# Configuración de Selenium\n",
    "service = Service('C:/Users/Josvaldes/Documents/Maestria/Austral/trabajoGrado/Codigo/chromedriver.exe')\n",
    "driver = webdriver.Chrome(service=service)\n",
    "\n",
    "# URL de la página principal\n",
    "url = 'https://colombiatic.mintic.gov.co/679/w3-channel.html'\n",
    "driver.get(url)\n",
    "\n",
    "# Función para verificar si el archivo del trimestre ya existe\n",
    "def archivo_trimestral_existente(nombre_archivo):\n",
    "    # Verificar en el directorio actual si existe un archivo con el nombre especificado\n",
    "    return os.path.exists(nombre_archivo)\n",
    "\n",
    "try:\n",
    "    # Esperar y encontrar la sección \"Destacados\"\n",
    "    destacados_header = WebDriverWait(driver, 20).until(\n",
    "        EC.presence_of_element_located((By.XPATH, \"//h2[@class='ntg-titulo-caja' and text()='Destacados']\"))\n",
    "    )\n",
    "    print(\"Se encontró la sección 'Destacados'.\")\n",
    "\n",
    "    # Buscar el enlace al artículo en la sección \"Destacados\"\n",
    "    destacados_section = driver.find_element(By.XPATH, \"//div[@class='recuadro col-md-6 col-lg-4 text-center mb-4']\")\n",
    "    link_element = destacados_section.find_element(By.TAG_NAME, \"a\")\n",
    "    report_url = link_element.get_attribute('href')\n",
    "\n",
    "    print(\"URL del artículo:\", report_url)\n",
    "\n",
    "    # Extraer el trimestre y año del reporte a partir del texto del enlace (si está disponible)\n",
    "    # Ejemplo: \"Boletín trimestral del sector TIC - Cifras primer trimestre de 2024\"\n",
    "    trimestre_texto = link_element.text\n",
    "    trimestre = re.search(r\"(primer|segundo|tercer|cuarto) trimestre de (\\d{4})\", trimestre_texto, re.IGNORECASE)\n",
    "    if trimestre:\n",
    "        trimestre_nombre = trimestre.group(1)\n",
    "        año = trimestre.group(2)\n",
    "        nombre_archivo = f\"reporte_tic_{trimestre_nombre}_trimestre_{año}.xlsx\"\n",
    "        print(f\"Nombre esperado del archivo: {nombre_archivo}\")\n",
    "    else:\n",
    "        print(\"No se pudo determinar el trimestre del reporte.\")\n",
    "        nombre_archivo = \"reporte_tic_trimestral.xlsx\"  # Nombre genérico si no se encuentra el trimestre\n",
    "\n",
    "    # Verificar si el archivo del trimestre ya existe\n",
    "    if archivo_trimestral_existente(nombre_archivo):\n",
    "        print(f\"El archivo '{nombre_archivo}' ya existe. No se realizará la descarga.\")\n",
    "    else:\n",
    "        # Navegar a la página del artículo\n",
    "        driver.get(report_url)\n",
    "\n",
    "        # Esperar a que el `<span>` que contiene el enlace al archivo Excel esté presente\n",
    "        excel_span = WebDriverWait(driver, 10).until(\n",
    "            EC.presence_of_element_located((By.XPATH, \"//span[contains(@class, 'bajardoc') and contains(@class, 'binary-archivo_xls') and contains(@class, 'format-xlsx')]\"))\n",
    "        )\n",
    "\n",
    "        # Obtener el enlace al archivo Excel\n",
    "        excel_link = excel_span.find_element(By.TAG_NAME, \"a\")\n",
    "        excel_url = excel_link.get_attribute('href')\n",
    "        print(\"URL del archivo Excel:\", excel_url)\n",
    "\n",
    "        # Descargar el archivo Excel usando requests\n",
    "        excel_response = requests.get(excel_url)\n",
    "\n",
    "        # Verificar el código de estado antes de guardar\n",
    "        if excel_response.status_code == 200:\n",
    "            with open(nombre_archivo, 'wb') as file:\n",
    "                file.write(excel_response.content)\n",
    "            print(f\"Reporte descargado exitosamente como {nombre_archivo}\")\n",
    "        else:\n",
    "            print(f\"Error al descargar el archivo. Código de estado: {excel_response.status_code}\")\n",
    "\n",
    "except Exception as e:\n",
    "    print(\"No se encontró la sección 'Destacados' o hubo un error:\", str(e))\n",
    "\n",
    "finally:\n",
    "    # Cerrar el navegador\n",
    "    driver.quit()"
   ]
  },
  {
   "cell_type": "markdown",
   "metadata": {},
   "source": [
    "Procesamiento del reporte descargado"
   ]
  },
  {
   "cell_type": "code",
   "execution_count": 42,
   "metadata": {},
   "outputs": [
    {
     "name": "stdout",
     "output_type": "stream",
     "text": [
      "Hojas disponibles en el archivo: ['PORTADA', 'CONTENIDO', '1', '2', '3', '4,1', '4,2', '4,3', '4,4', '5', '6', '7', '8', '9', '10', '11', '12', '13', '14', '15', '16', '17', '18']\n"
     ]
    }
   ],
   "source": [
    "# Cargar los nombres de las hojas\n",
    "patch = nombre_archivo\n",
    "excel_file = pd.ExcelFile(patch)\n",
    "print(\"Hojas disponibles en el archivo:\", excel_file.sheet_names)"
   ]
  },
  {
   "cell_type": "code",
   "execution_count": 44,
   "metadata": {},
   "outputs": [
    {
     "name": "stdout",
     "output_type": "stream",
     "text": [
      "Archivo 'hojas_vista_previa.xlsx' creado con éxito, con una vista previa de las primeras filas de cada hoja.\n"
     ]
    }
   ],
   "source": [
    "# Ruta del archivo descargado\n",
    "patch = nombre_archivo\n",
    "\n",
    "# Crear un diccionario para almacenar las primeras filas de cada hoja como DataFrames\n",
    "sheets_preview = {}\n",
    "\n",
    "try:\n",
    "    # Cargar todas las hojas\n",
    "    all_sheets = pd.read_excel(patch, sheet_name=None)\n",
    "\n",
    "    # Obtener una vista previa de las primeras filas de cada hoja\n",
    "    for sheet_name, df in all_sheets.items():\n",
    "        # Almacenar las primeras 10 filas de cada hoja para revisión\n",
    "        sheets_preview[sheet_name] = df.head(10)\n",
    "\n",
    "    # Crear un archivo Excel para almacenar la vista previa de las primeras filas de cada hoja\n",
    "    with pd.ExcelWriter(\"hojas_vista_previa.xlsx\") as writer:\n",
    "        for sheet_name, preview_df in sheets_preview.items():\n",
    "            preview_df.to_excel(writer, sheet_name=sheet_name, index=False)\n",
    "\n",
    "    print(\"Archivo 'hojas_vista_previa.xlsx' creado con éxito, con una vista previa de las primeras filas de cada hoja.\")\n",
    "\n",
    "except Exception as e:\n",
    "    print(\"Error al cargar y listar la vista previa de las hojas:\", e)"
   ]
  },
  {
   "cell_type": "code",
   "execution_count": 64,
   "metadata": {},
   "outputs": [],
   "source": [
    "# Diccionario que define los nombres de columnas esperados en cada hoja\n",
    "column_structure = {\n",
    "    '1': ['AÑO', 'TRIMESTRE', 'PROVEEDOR', 'No. ACCESOS FIJOS A INTERNET'],\n",
    "    '2': ['AÑO', 'TRIMESTRE', 'CÓDIGO DANE', 'DEPARTAMENTO', 'No. ACCESOS FIJOS A INTERNET', 'POBLACIÓN DANE', 'PENETRACIÓN'],\n",
    "    '3': ['AÑO', 'TRIMESTRE', 'CÓDIGO DANE', 'DEPARTAMENTO', 'CÓDIGO DANE', 'MUNICIPIO', 'No. ACCESOS FIJOS A INTERNET', 'POBLACIÓN DANE', 'PENETRACIÓN'],\n",
    "    '4,1': ['AÑO', 'TRIMESTRE', 'PROVEEDOR', 'CÓDIGO DANE', 'DEPARTAMENTO', 'CÓDIGO DANE', 'MUNICIPIO', 'SEGMENTO', 'TECNOLOGÍA', 'VELOCIDAD BAJADA', 'VELOCIDAD SUBIDA', 'No. ACCESOS FIJOS A INTERNET'],\n",
    "    '4,2': ['AÑO', 'TRIMESTRE', 'PROVEEDOR', 'CÓDIGO DANE', 'DEPARTAMENTO', 'CÓDIGO DANE', 'MUNICIPIO', 'SEGMENTO', 'TECNOLOGÍA', 'VELOCIDAD BAJADA', 'VELOCIDAD SUBIDA', 'No. ACCESOS FIJOS A INTERNET'],\n",
    "    '4,3': ['AÑO', 'TRIMESTRE', 'PROVEEDOR', 'CÓDIGO DANE', 'DEPARTAMENTO', 'CÓDIGO DANE', 'MUNICIPIO', 'SEGMENTO', 'TECNOLOGÍA', 'VELOCIDAD BAJADA', 'VELOCIDAD SUBIDA', 'No. ACCESOS FIJOS A INTERNET'],\n",
    "    '4,4': ['AÑO', 'TRIMESTRE', 'PROVEEDOR', 'CÓDIGO DANE', 'DEPARTAMENTO', 'CÓDIGO DANE', 'MUNICIPIO', 'SEGMENTO', 'TECNOLOGÍA', 'VELOCIDAD BAJADA', 'VELOCIDAD SUBIDA', 'No. ACCESOS FIJOS A INTERNET'],\n",
    "    '5': ['AÑO', 'TRIMESTRE', 'PROVEEDOR', 'INGRESOS (Pesos)'],\n",
    "    '6': ['AÑO', 'TRIMESTRE', 'PROVEEDOR', 'SEGMENTO', 'TERMINAL', 'TECNOLOGÍA', 'No. ABONADOS'],\n",
    "    '7': ['AÑO', 'TRIMESTRE', 'PROVEEDOR', 'SEGMENTO', 'TERMINAL', 'INGRESOS'],\n",
    "    '8': ['AÑO', 'TRIMESTRE', 'PROVEEDOR', 'SEGMENTO', 'TRÁFICO (MB)'],\n",
    "    '9': ['AÑO', 'TRIMESTRE', 'PROVEEDOR', 'SEGMENTO', 'TERMINAL', 'TECNOLOGÍA', 'No. SUSCRIPTORES'],\n",
    "    '10': ['AÑO', 'TRIMESTRE', 'PROVEEDOR', 'SEGMENTO', 'TERMINAL', 'INGRESOS'],\n",
    "    '11': ['AÑO', 'TRIMESTRE', 'PROVEEDOR', 'TRÁFICO (MB)'],\n",
    "    '12': ['AÑO', 'TRIMESTRE', 'PROVEEDOR', 'LÍNEAS EN SERVICIO', 'LÍNEAS PREPAGO', 'LÍNEAS POSPAGO', 'LÍNEAS ACTIVADAS', 'LÍNEAS RETIRADAS'],\n",
    "    '13': ['AÑO', 'TRIMESTRE', 'PROVEEDOR', 'PROVEEDOR DESTINO', 'TRÁFICO PREPAGO', 'TRÁFICO POSPAGO'],\n",
    "    '14': ['AÑO', 'TRIMESTRE', 'PROVEEDOR', 'CONSUMO PREPAGO', 'CONSUMO POSPAGO', 'INGRESOS OPERACIONALES'],\n",
    "    '15': ['AÑO', 'TRIMESTRE', 'PROVEEDOR', 'CÓDIGO DANE', 'DEPARTAMENTO', 'CÓDIGO DANE', 'MUNICIPIO', 'CABECERA MUNICIPAL', 'CÓDIGO DANE', 'CENTRO POBLADO', 'COBERTURA 2G', 'COBERTURA 3G', 'COBERTURA HSPA+', 'HSPA+DC', 'COBERTURA_4G', 'COBERTURA_LTE', 'COBERTURA_5G'],\n",
    "    '16': ['AÑO', 'TRIMESTRE', 'PROVEEDOR', 'CÓDIGO DANE DEPARTAMENTO', 'DEPARTAMENTO', 'CÓDIGO DANE MUNICIPIO', 'MUNICIPIO', 'SEGMENTO', 'LÍNEAS EN SERVICIO'],\n",
    "    '17': ['AÑO', 'TRIMESTRE', 'PROVEEDOR', 'INGRESOS TRÁFICO LDIE', 'INGRESOS TRÁFICO LDIS', 'INGRESOS TELEFONIA FIJA']\n",
    "}\n",
    "\n"
   ]
  },
  {
   "cell_type": "code",
   "execution_count": 79,
   "metadata": {},
   "outputs": [
    {
     "name": "stdout",
     "output_type": "stream",
     "text": [
      "Hoja '2' combinada con columnas comunes: ['AÑO', 'TRIMESTRE', 'No. ACCESOS FIJOS A INTERNET']\n",
      "Hoja '3' combinada con columnas comunes: ['AÑO', 'TRIMESTRE', 'No. ACCESOS FIJOS A INTERNET', 'CÓDIGO DANE', 'DEPARTAMENTO', 'POBLACIÓN DANE', 'PENETRACIÓN']\n",
      "Hoja '4,1' combinada con columnas comunes: ['AÑO', 'TRIMESTRE', 'PROVEEDOR', 'No. ACCESOS FIJOS A INTERNET', 'CÓDIGO DANE', 'DEPARTAMENTO', 'CÓDIGO DANE_dup1', 'MUNICIPIO']\n",
      "Hoja '5' combinada con columnas comunes: ['AÑO', 'TRIMESTRE', 'PROVEEDOR']\n",
      "Hoja '6' combinada con columnas comunes: ['AÑO', 'TRIMESTRE', 'PROVEEDOR', 'SEGMENTO', 'TECNOLOGÍA']\n",
      "DataFrame combinado final:\n",
      "    AÑO TRIMESTRE                                    PROVEEDOR   \n",
      "0  2021         4                 INTER CONEXIONES R Y L S.A.S  \\\n",
      "1  2021         4                 INTER CONEXIONES R Y L S.A.S   \n",
      "2  2021         4  CONECTATE COMUNICACIONES DEL PACIFICO S.A.S   \n",
      "3  2021         4  CONECTATE COMUNICACIONES DEL PACIFICO S.A.S   \n",
      "4  2021         4  CONECTATE COMUNICACIONES DEL PACIFICO S.A.S   \n",
      "\n",
      "  No. ACCESOS FIJOS A INTERNET CÓDIGO DANE     DEPARTAMENTO POBLACIÓN DANE   \n",
      "0                           24         NaN              NaN            NaN  \\\n",
      "1                           24          68        SANTANDER            NaN   \n",
      "2                           24         NaN              NaN            NaN   \n",
      "3                            9          76  VALLE DEL CAUCA            NaN   \n",
      "4                           11          76  VALLE DEL CAUCA            NaN   \n",
      "\n",
      "  PENETRACIÓN CÓDIGO DANE_dup1     MUNICIPIO                 SEGMENTO   \n",
      "0         NaN              NaN           NaN                      NaN  \\\n",
      "1         NaN            68573  PUERTO PARRA  RESIDENCIAL - ESTRATO 1   \n",
      "2         NaN              NaN           NaN                      NaN   \n",
      "3         NaN            76892         YUMBO              CORPORATIVO   \n",
      "4         NaN            76892         YUMBO              CORPORATIVO   \n",
      "\n",
      "                 TECNOLOGÍA VELOCIDAD BAJADA VELOCIDAD SUBIDA   \n",
      "0                       NaN              NaN              NaN  \\\n",
      "1  FIBER TO THE HOME (FTTH)                8                8   \n",
      "2                       NaN              NaN              NaN   \n",
      "3                      WIFI               20               10   \n",
      "4                      WIFI               10                5   \n",
      "\n",
      "  INGRESOS (Pesos) TERMINAL No. ABONADOS  \n",
      "0          1872000      NaN          NaN  \n",
      "1          1872000      NaN          NaN  \n",
      "2         17447855      NaN          NaN  \n",
      "3         17447855      NaN          NaN  \n",
      "4         17447855      NaN          NaN  \n",
      "DataFrame combinado exportado a 'data_reporte_combined_final_v3.xlsx'.\n"
     ]
    }
   ],
   "source": [
    "# Función para renombrar columnas duplicadas con sufijos secuenciales\n",
    "def rename_duplicates(columns):\n",
    "    counts = {}\n",
    "    new_columns = []\n",
    "    for col in columns:\n",
    "        if col in counts:\n",
    "            counts[col] += 1\n",
    "            new_columns.append(f\"{col}_dup{counts[col]}\")\n",
    "        else:\n",
    "            counts[col] = 0\n",
    "            new_columns.append(col)\n",
    "    return new_columns\n",
    "\n",
    "# Procesar y limpiar cada hoja\n",
    "for sheet_name, df in all_sheets.items():\n",
    "    # Eliminar las filas innecesarias (encabezados adicionales o filas introductorias)\n",
    "    expected_columns = column_structure[sheet_name]\n",
    "    df.columns = df.columns.str.strip()  # Limpiar espacios en los nombres de columnas\n",
    "\n",
    "    # Encontrar la primera fila válida\n",
    "    valid_row = df[df.iloc[:, 0].astype(str).str.match(r'^\\d{4}$')].index.min()\n",
    "    if valid_row is not None:\n",
    "        df = df.iloc[valid_row:].reset_index(drop=True)  # Limpiar filas superiores\n",
    "        df.columns = expected_columns  # Renombrar las columnas con los nombres esperados\n",
    "\n",
    "    # Renombrar columnas duplicadas con sufijos secuenciales\n",
    "    df.columns = rename_duplicates(df.columns)\n",
    "\n",
    "    all_sheets[sheet_name] = df\n",
    "\n",
    "# Empezar con la primera hoja como base del `merge`\n",
    "combined_df = all_sheets['1']\n",
    "\n",
    "# Iterar sobre las hojas restantes para combinarlas\n",
    "for sheet_name, df in all_sheets.items():\n",
    "    if sheet_name != '1':  # Saltar la primera hoja ya que es la base\n",
    "        common_columns = combined_df.columns.intersection(df.columns).tolist()  # Detectar columnas comunes\n",
    "        if common_columns:\n",
    "            combined_df = pd.merge(combined_df, df, on=common_columns, how='outer')  # Merge con columnas comunes\n",
    "            print(f\"Hoja '{sheet_name}' combinada con columnas comunes: {common_columns}\")\n",
    "        else:\n",
    "            print(f\"Advertencia: No se encontraron columnas comunes para combinar con la hoja '{sheet_name}'\")\n",
    "\n",
    "# Mostrar una muestra del DataFrame combinado final\n",
    "print(\"DataFrame combinado final:\")\n",
    "print(combined_df.head())\n",
    "\n",
    "# Guardar el DataFrame combinado en un archivo Excel para revisión\n",
    "combined_df.to_excel(\"data_reporte_combined_final_v3.xlsx\", index=False)\n",
    "print(\"DataFrame combinado exportado a 'data_reporte_combined_final_v3.xlsx'.\")"
   ]
  },
  {
   "cell_type": "markdown",
   "metadata": {},
   "source": [
    "Validación del reporte final"
   ]
  },
  {
   "cell_type": "code",
   "execution_count": 80,
   "metadata": {},
   "outputs": [
    {
     "name": "stdout",
     "output_type": "stream",
     "text": [
      "Columnas en el DataFrame combinado:\n",
      "Index(['AÑO', 'TRIMESTRE', 'PROVEEDOR', 'No. ACCESOS FIJOS A INTERNET',\n",
      "       'CÓDIGO DANE', 'DEPARTAMENTO', 'POBLACIÓN DANE', 'PENETRACIÓN',\n",
      "       'CÓDIGO DANE_dup1', 'MUNICIPIO', 'SEGMENTO', 'TECNOLOGÍA',\n",
      "       'VELOCIDAD BAJADA', 'VELOCIDAD SUBIDA', 'INGRESOS (Pesos)', 'TERMINAL',\n",
      "       'No. ABONADOS'],\n",
      "      dtype='object')\n",
      "\n",
      "Recuento de filas y columnas:\n",
      "Filas: 129833, Columnas: 17\n",
      "\n",
      "Estadísticas descriptivas:\n",
      "       POBLACIÓN DANE   PENETRACIÓN  INGRESOS (Pesos)  No. ABONADOS\n",
      "count    1.265200e+04  12652.000000      1.148430e+05  5.890000e+02\n",
      "mean     8.358956e+04      0.063630      1.501377e+11  4.191329e+05\n",
      "std      4.186503e+05      0.074891      1.791574e+11  1.613322e+06\n",
      "min      3.100000e+02      0.000092      0.000000e+00  0.000000e+00\n",
      "25%      7.246750e+03      0.012059      1.296858e+09  1.410000e+02\n",
      "50%      1.440000e+04      0.036881      3.860646e+10  3.567000e+03\n",
      "75%      3.171500e+04      0.087100      3.703546e+11  5.769800e+04\n",
      "max      7.929539e+06      1.220264      4.516532e+11  1.483967e+07\n",
      "\n",
      "Validación de la columna 'No. ACCESOS FIJOS A INTERNET' de la hoja 1:\n",
      "Valores no nulos: 127499 de 129833\n",
      "\n",
      "Validación de la columna 'POBLACIÓN DANE' de la hoja 2:\n",
      "Valores no nulos: 12652 de 129833\n",
      "\n",
      "Validación de la columna 'PENETRACIÓN' de la hoja 3:\n",
      "Valores no nulos: 12652 de 129833\n",
      "\n",
      "Muestra de los datos combinados:\n",
      "    AÑO TRIMESTRE                                    PROVEEDOR   \n",
      "0  2021         4                 INTER CONEXIONES R Y L S.A.S  \\\n",
      "1  2021         4                 INTER CONEXIONES R Y L S.A.S   \n",
      "2  2021         4  CONECTATE COMUNICACIONES DEL PACIFICO S.A.S   \n",
      "3  2021         4  CONECTATE COMUNICACIONES DEL PACIFICO S.A.S   \n",
      "4  2021         4  CONECTATE COMUNICACIONES DEL PACIFICO S.A.S   \n",
      "\n",
      "  No. ACCESOS FIJOS A INTERNET CÓDIGO DANE     DEPARTAMENTO  POBLACIÓN DANE   \n",
      "0                           24         NaN              NaN             NaN  \\\n",
      "1                           24          68        SANTANDER             NaN   \n",
      "2                           24         NaN              NaN             NaN   \n",
      "3                            9          76  VALLE DEL CAUCA             NaN   \n",
      "4                           11          76  VALLE DEL CAUCA             NaN   \n",
      "\n",
      "   PENETRACIÓN CÓDIGO DANE_dup1     MUNICIPIO                 SEGMENTO   \n",
      "0          NaN              NaN           NaN                      NaN  \\\n",
      "1          NaN            68573  PUERTO PARRA  RESIDENCIAL - ESTRATO 1   \n",
      "2          NaN              NaN           NaN                      NaN   \n",
      "3          NaN            76892         YUMBO              CORPORATIVO   \n",
      "4          NaN            76892         YUMBO              CORPORATIVO   \n",
      "\n",
      "                 TECNOLOGÍA VELOCIDAD BAJADA VELOCIDAD SUBIDA   \n",
      "0                       NaN              NaN              NaN  \\\n",
      "1  FIBER TO THE HOME (FTTH)                8                8   \n",
      "2                       NaN              NaN              NaN   \n",
      "3                      WIFI               20               10   \n",
      "4                      WIFI               10                5   \n",
      "\n",
      "   INGRESOS (Pesos) TERMINAL  No. ABONADOS  \n",
      "0         1872000.0      NaN           NaN  \n",
      "1         1872000.0      NaN           NaN  \n",
      "2        17447855.0      NaN           NaN  \n",
      "3        17447855.0      NaN           NaN  \n",
      "4        17447855.0      NaN           NaN  \n"
     ]
    }
   ],
   "source": [
    "# Cargar el archivo combinado\n",
    "combined_df = pd.read_excel(\"data_reporte_combined_final_v3.xlsx\")\n",
    "\n",
    "# Mostrar la estructura del DataFrame combinado\n",
    "print(\"Columnas en el DataFrame combinado:\")\n",
    "print(combined_df.columns)\n",
    "\n",
    "# Recuento de filas y columnas\n",
    "print(\"\\nRecuento de filas y columnas:\")\n",
    "print(f\"Filas: {combined_df.shape[0]}, Columnas: {combined_df.shape[1]}\")\n",
    "\n",
    "# Estadísticas descriptivas para columnas numéricas\n",
    "print(\"\\nEstadísticas descriptivas:\")\n",
    "print(combined_df.describe())\n",
    "\n",
    "# Validación de columnas clave en las hojas originales\n",
    "column_checks = {\n",
    "    '1': 'No. ACCESOS FIJOS A INTERNET',\n",
    "    '2': 'POBLACIÓN DANE',\n",
    "    '3': 'PENETRACIÓN',\n",
    "    # Agrega aquí otras columnas clave de cada hoja\n",
    "}\n",
    "\n",
    "# Validar si las columnas clave están presentes y no contienen solo valores nulos\n",
    "for sheet, column in column_checks.items():\n",
    "    if column in combined_df.columns:\n",
    "        print(f\"\\nValidación de la columna '{column}' de la hoja {sheet}:\")\n",
    "        print(f\"Valores no nulos: {combined_df[column].notna().sum()} de {combined_df.shape[0]}\")\n",
    "    else:\n",
    "        print(f\"\\nAdvertencia: La columna '{column}' de la hoja {sheet} no se encuentra en el DataFrame combinado.\")\n",
    "\n",
    "# Mostrar una muestra del DataFrame para revisión visual\n",
    "print(\"\\nMuestra de los datos combinados:\")\n",
    "print(combined_df.head())"
   ]
  },
  {
   "cell_type": "code",
   "execution_count": 81,
   "metadata": {},
   "outputs": [
    {
     "name": "stdout",
     "output_type": "stream",
     "text": [
      "Columna 'AÑO': 129833 valores no nulos de 129833\n",
      "Columna 'TRIMESTRE': 129830 valores no nulos de 129833\n",
      "Columna 'PROVEEDOR': 117197 valores no nulos de 129833\n",
      "Columna 'No. ACCESOS FIJOS A INTERNET': 127499 valores no nulos de 129833\n",
      "Columna 'POBLACIÓN DANE': 12652 valores no nulos de 129833\n",
      "Columna 'PENETRACIÓN': 12652 valores no nulos de 129833\n",
      "Columna 'INGRESOS (Pesos)': 114843 valores no nulos de 129833\n",
      "Columna 'No. ABONADOS': 589 valores no nulos de 129833\n"
     ]
    }
   ],
   "source": [
    "# Verificar la cantidad de valores no nulos en columnas clave\n",
    "key_columns = ['AÑO', 'TRIMESTRE', 'PROVEEDOR', 'No. ACCESOS FIJOS A INTERNET', \n",
    "               'POBLACIÓN DANE', 'PENETRACIÓN', 'INGRESOS (Pesos)', 'No. ABONADOS']\n",
    "for col in key_columns:\n",
    "    if col in combined_df.columns:\n",
    "        print(f\"Columna '{col}': {combined_df[col].notna().sum()} valores no nulos de {combined_df.shape[0]}\")"
   ]
  },
  {
   "cell_type": "code",
   "execution_count": 82,
   "metadata": {},
   "outputs": [
    {
     "name": "stdout",
     "output_type": "stream",
     "text": [
      "Conteo de AÑO:\n",
      "AÑO\n",
      "2021                                                                                                                                                                                                                                                                                                                                                                                                                                                   106296\n",
      "2023                                                                                                                                                                                                                                                                                                                                                                                                                                                     9473\n",
      "2022                                                                                                                                                                                                                                                                                                                                                                                                                                                     9142\n",
      "2024                                                                                                                                                                                                                                                                                                                                                                                                                                                     4919\n",
      "- Cifras remitidas por los  Proveedores de Redes y Servicios de Telecomunicaciones (PRST) conforme a la normatividad vigente, a través del Sistema de Información Integral del Sector TIC - Colombia TIC http://colombiatic.mintic.gov.co\\n- Información Estadística: Segundo trimestre de 2024 = Pr: Información preliminar (Trimestre N); Pv: Información Provisional (Trimestre N-1; ...N-8); Df: Información definitiva (Trimestre N-9; …N-Z).          1\n",
      "Contenido: Información de accesos fijos a Internet por proveedor según Departamento, Municipio, Segmento, tasa de transferencia máxima de  bajada (Downstream) y de subida (Upstream) medida en Megabits por segundo (Mbps) y Tecnología. \\nInformación agrupada y publicada conforme a la Resolución 6333 de 2021.                                                                                                                                         1\n",
      "AÑO                                                                                                                                                                                                                                                                                                                                                                                                                                                         1\n",
      "Name: count, dtype: int64\n",
      "\n",
      "Conteo de TRIMESTRE:\n",
      "TRIMESTRE\n",
      "4            111014\n",
      "2              7108\n",
      "1              7066\n",
      "3              4641\n",
      "NaN               3\n",
      "TRIMESTRE         1\n",
      "Name: count, dtype: int64\n"
     ]
    }
   ],
   "source": [
    "# Conteo de años y trimestres\n",
    "print(\"Conteo de AÑO:\")\n",
    "print(combined_df['AÑO'].value_counts(dropna=False))\n",
    "\n",
    "print(\"\\nConteo de TRIMESTRE:\")\n",
    "print(combined_df['TRIMESTRE'].value_counts(dropna=False))"
   ]
  },
  {
   "cell_type": "code",
   "execution_count": 83,
   "metadata": {},
   "outputs": [
    {
     "name": "stdout",
     "output_type": "stream",
     "text": [
      "\n",
      "Datos faltantes por columna clave:\n",
      "AÑO                                  0\n",
      "TRIMESTRE                            3\n",
      "PROVEEDOR                        12636\n",
      "No. ACCESOS FIJOS A INTERNET      2334\n",
      "POBLACIÓN DANE                  117181\n",
      "PENETRACIÓN                     117181\n",
      "INGRESOS (Pesos)                 14990\n",
      "No. ABONADOS                    129244\n",
      "dtype: int64\n"
     ]
    }
   ],
   "source": [
    "# Filas con datos faltantes en columnas clave\n",
    "missing_data = combined_df[key_columns].isnull().sum()\n",
    "print(\"\\nDatos faltantes por columna clave:\")\n",
    "print(missing_data)"
   ]
  },
  {
   "cell_type": "markdown",
   "metadata": {},
   "source": [
    "Limpieza del dataset combinado."
   ]
  },
  {
   "cell_type": "code",
   "execution_count": 85,
   "metadata": {},
   "outputs": [
    {
     "name": "stdout",
     "output_type": "stream",
     "text": [
      "Valores únicos en 'AÑO': [2021 2022 2023 2024]...\n",
      "Valores únicos en 'TRIMESTRE': [4 1 2 3]...\n",
      "Valores únicos en 'PROVEEDOR': ['INTER CONEXIONES R Y L S.A.S'\n",
      " 'CONECTATE COMUNICACIONES DEL PACIFICO S.A.S' 'HYH COMUNICACIONES S.A.S'\n",
      " 'ASIS OBRAS Y SERVICIOS S.A.S' 'WIFI ALTERNATIVO VALLE S.A.S'\n",
      " 'ALIANZA SERVICIOS TECNOLOGICOS SAS' 'ZULDEMAYDA COMUNICACIONES'\n",
      " 'MAXTECHNOLOGY COMUNICACIONES S.A.S' 'ANTNET COMUNICACIONES S.A.S.'\n",
      " 'OPTIMO NET SAS']...\n",
      "Valores únicos en 'DEPARTAMENTO': [nan 'SANTANDER' 'VALLE DEL CAUCA' 'ANTIOQUIA' 'PUTUMAYO' 'QUINDÍO'\n",
      " 'MAGDALENA' 'CALDAS' 'CAQUETA' 'META']...\n",
      "Valores únicos en 'No. ACCESOS FIJOS A INTERNET': [24 9 11 2 1 10 8 143 218 168]...\n",
      "\n",
      "Estadísticas descriptivas después de la limpieza:\n",
      "                 AÑO      TRIMESTRE  No. ACCESOS FIJOS A INTERNET   \n",
      "count  127498.000000  127498.000000                  1.274980e+05  \\\n",
      "mean     2021.307934       3.715329                  2.174474e+03   \n",
      "std         0.752600       0.778146                  4.862527e+04   \n",
      "min      2021.000000       1.000000                  0.000000e+00   \n",
      "25%      2021.000000       4.000000                  1.000000e+00   \n",
      "50%      2021.000000       4.000000                  6.000000e+00   \n",
      "75%      2021.000000       4.000000                  6.900000e+01   \n",
      "max      2024.000000       4.000000                  3.362505e+06   \n",
      "\n",
      "       POBLACIÓN DANE   PENETRACIÓN  INGRESOS (Pesos)  No. ABONADOS  \n",
      "count    1.265200e+04  12652.000000      1.131010e+05           0.0  \n",
      "mean     8.358956e+04      0.063630      1.524454e+11           NaN  \n",
      "std      4.186503e+05      0.074891      1.795567e+11           NaN  \n",
      "min      3.100000e+02      0.000092      0.000000e+00           NaN  \n",
      "25%      7.246750e+03      0.012059      1.447061e+09           NaN  \n",
      "50%      1.440000e+04      0.036881      3.860646e+10           NaN  \n",
      "75%      3.171500e+04      0.087100      3.703546e+11           NaN  \n",
      "max      7.929539e+06      1.220264      4.516532e+11           NaN  \n",
      "\n",
      "El dataset final limpio se ha exportado a 'dataset_final_limpio.xlsx'\n"
     ]
    }
   ],
   "source": [
    "# Paso 1: Eliminar filas irrelevantes\n",
    "# Filtrar las filas que no contienen números válidos en la columna 'AÑO'\n",
    "combined_df = combined_df[pd.to_numeric(combined_df['AÑO'], errors='coerce').notnull()]\n",
    "\n",
    "# Paso 2: Eliminar filas donde 'AÑO' o 'TRIMESTRE' son nulos\n",
    "combined_df = combined_df.dropna(subset=['AÑO', 'TRIMESTRE'])\n",
    "\n",
    "# Convertir 'AÑO' y 'TRIMESTRE' a enteros\n",
    "combined_df['AÑO'] = combined_df['AÑO'].astype(int)\n",
    "combined_df['TRIMESTRE'] = combined_df['TRIMESTRE'].astype(int)\n",
    "\n",
    "# Paso 3: Revisar valores únicos en las columnas clave para identificar inconsistencias\n",
    "columnas_clave = ['AÑO', 'TRIMESTRE', 'PROVEEDOR', 'DEPARTAMENTO', 'No. ACCESOS FIJOS A INTERNET']\n",
    "for col in columnas_clave:\n",
    "    print(f\"Valores únicos en '{col}': {combined_df[col].unique()[:10]}...\")  # Muestra los primeros 10 valores únicos\n",
    "\n",
    "# Paso 4: Remover filas con texto innecesario en columnas numéricas\n",
    "# Por ejemplo, revisar 'No. ACCESOS FIJOS A INTERNET' y convertir a numérico\n",
    "combined_df['No. ACCESOS FIJOS A INTERNET'] = pd.to_numeric(combined_df['No. ACCESOS FIJOS A INTERNET'], errors='coerce')\n",
    "\n",
    "# Eliminar filas donde 'No. ACCESOS FIJOS A INTERNET' sea nulo después de la conversión\n",
    "combined_df = combined_df[combined_df['No. ACCESOS FIJOS A INTERNET'].notnull()]\n",
    "\n",
    "# Paso 5: Limpiar columnas adicionales y ajustar nombres duplicados\n",
    "combined_df = combined_df.rename(columns=lambda x: x.strip())  # Eliminar espacios en los nombres de columnas\n",
    "combined_df = combined_df.loc[:, ~combined_df.columns.duplicated()]  # Eliminar columnas duplicadas\n",
    "\n",
    "# Paso 6: Generar estadísticas para validar que la limpieza fue exitosa\n",
    "print(\"\\nEstadísticas descriptivas después de la limpieza:\")\n",
    "print(combined_df.describe())\n",
    "\n",
    "# Exportar el DataFrame final limpio\n",
    "output_path = \"dataset_final_limpio.xlsx\"  # Cambia a la ruta deseada\n",
    "combined_df.to_excel(output_path, index=False)\n",
    "\n",
    "print(f\"\\nEl dataset final limpio se ha exportado a '{output_path}'\")"
   ]
  },
  {
   "cell_type": "markdown",
   "metadata": {},
   "source": [
    "1. Análisis Descriptivo General"
   ]
  },
  {
   "cell_type": "markdown",
   "metadata": {},
   "source": [
    "Distribución Temporal\n",
    "\n",
    "Se investiga la cantidad de registros por año y trimestre para ver si hay tendencias de crecimiento o reducción en la cantidad de datos reportados."
   ]
  },
  {
   "cell_type": "code",
   "execution_count": 90,
   "metadata": {},
   "outputs": [
    {
     "name": "stdout",
     "output_type": "stream",
     "text": [
      "AÑO\n",
      "2021    106157\n",
      "2023      8716\n",
      "2022      8023\n",
      "2024      4602\n",
      "Name: count, dtype: int64\n",
      "TRIMESTRE\n",
      "4    110430\n",
      "2      6443\n",
      "1      6392\n",
      "3      4233\n",
      "Name: count, dtype: int64\n"
     ]
    }
   ],
   "source": [
    "print(combined_df['AÑO'].value_counts())\n",
    "print(combined_df['TRIMESTRE'].value_counts())"
   ]
  },
  {
   "cell_type": "markdown",
   "metadata": {},
   "source": [
    "Estadísticas Descriptivas\n",
    "\n",
    "Se calcula estadísticas descriptivas de las columnas numéricas, como Velocidad de Bajada, Velocidad de Subida, No. acceso fijos a Internet, INGRESOS (Pesos), y No. ABONADOS."
   ]
  },
  {
   "cell_type": "code",
   "execution_count": 95,
   "metadata": {},
   "outputs": [
    {
     "name": "stdout",
     "output_type": "stream",
     "text": [
      "       No. ACCESOS FIJOS A INTERNET  INGRESOS (Pesos)  No. ABONADOS\n",
      "count                  1.274980e+05      1.131010e+05           0.0\n",
      "mean                   2.174474e+03      1.524454e+11           NaN\n",
      "std                    4.862527e+04      1.795567e+11           NaN\n",
      "min                    0.000000e+00      0.000000e+00           NaN\n",
      "25%                    1.000000e+00      1.447061e+09           NaN\n",
      "50%                    6.000000e+00      3.860646e+10           NaN\n",
      "75%                    6.900000e+01      3.703546e+11           NaN\n",
      "max                    3.362505e+06      4.516532e+11           NaN\n"
     ]
    }
   ],
   "source": [
    "print(combined_df[['VELOCIDAD BAJADA', 'VELOCIDAD SUBIDA', 'No. ACCESOS FIJOS A INTERNET', 'INGRESOS (Pesos)', 'No. ABONADOS']].describe())"
   ]
  },
  {
   "cell_type": "markdown",
   "metadata": {},
   "source": [
    "Cantidad de Proveedores por Año\n",
    "\n",
    "Se investiga si el número de proveedores ha crecido o disminuido a lo largo de los años."
   ]
  },
  {
   "cell_type": "code",
   "execution_count": 96,
   "metadata": {},
   "outputs": [
    {
     "name": "stdout",
     "output_type": "stream",
     "text": [
      "AÑO\n",
      "2021     797\n",
      "2022    1010\n",
      "2023    1229\n",
      "2024    1238\n",
      "Name: PROVEEDOR, dtype: int64\n"
     ]
    }
   ],
   "source": [
    "print(combined_df.groupby(['AÑO'])['PROVEEDOR'].nunique())"
   ]
  },
  {
   "cell_type": "markdown",
   "metadata": {},
   "source": [
    "2. Análisis de Segmentos y Tecnologías"
   ]
  },
  {
   "cell_type": "markdown",
   "metadata": {},
   "source": [
    "Distribución por Segmento y Tecnología\n",
    "\n",
    "Se verifica cómo se distribuyen los segmentos (Segmento y SEGMENTO) y las tecnologías (Tecnología y TECNOLOGÍA) en el conjunto de datos."
   ]
  },
  {
   "cell_type": "code",
   "execution_count": 98,
   "metadata": {},
   "outputs": [
    {
     "name": "stdout",
     "output_type": "stream",
     "text": [
      "SEGMENTO\n",
      "CORPORATIVO                33777\n",
      "RESIDENCIAL - ESTRATO 2    22607\n",
      "RESIDENCIAL - ESTRATO 1    17526\n",
      "RESIDENCIAL - ESTRATO 3    14465\n",
      "RESIDENCIAL - ESTRATO 4     7632\n",
      "RESIDENCIAL - ESTRATO 5     3712\n",
      "RESIDENCIAL - ESTRATO 6     2996\n",
      "SIN ESTRATIFICAR            1498\n",
      "Name: count, dtype: int64\n",
      "TECNOLOGÍA\n",
      "FIBER TO THE HOME (FTTH)                                23810\n",
      "CABLE                                                   20779\n",
      "XDSL                                                    14931\n",
      "OTRAS TECNOLOGÍAS INALÁMBRICAS                          11183\n",
      "SATELITAL                                                9401\n",
      "OTRAS TECNOLOGÍAS DE FIBRA (ANTES FTTX)                  8846\n",
      "HYBRID FIBER COAXIAL (HFC)                               7234\n",
      "WIFI                                                     5112\n",
      "FIBER TO THE BUILDING O FIBER TO THE BASEMENT (FTTB)     1018\n",
      "FIBER TO THE PREMISES                                     571\n",
      "WIMAX                                                     546\n",
      "FIBER TO THE CABINET (FTTC)                               396\n",
      "OTRAS TECNOLOGÍAS FIJAS                                   177\n",
      "FIBER TO THE ANTENNA (FTTA)                               136\n",
      "FIBER TO THE NODE (FTTN)                                   73\n",
      "Name: count, dtype: int64\n"
     ]
    }
   ],
   "source": [
    "print(combined_df['SEGMENTO'].value_counts())\n",
    "print(combined_df['TECNOLOGÍA'].value_counts())"
   ]
  },
  {
   "cell_type": "markdown",
   "metadata": {},
   "source": [
    "Velocidades por Tecnología\n",
    "\n",
    "Se observa las velocidades de bajada y subida promedio de Internet para cada tecnología."
   ]
  },
  {
   "cell_type": "code",
   "execution_count": 99,
   "metadata": {},
   "outputs": [
    {
     "name": "stdout",
     "output_type": "stream",
     "text": [
      "                                                   VELOCIDAD BAJADA   \n",
      "TECNOLOGÍA                                                            \n",
      "CABLE                                                    102.841254  \\\n",
      "FIBER TO THE ANTENNA (FTTA)                                5.434559   \n",
      "FIBER TO THE BUILDING O FIBER TO THE BASEMENT (...       282.248271   \n",
      "FIBER TO THE CABINET (FTTC)                             9769.201515   \n",
      "FIBER TO THE HOME (FTTH)                                 247.944369   \n",
      "FIBER TO THE NODE (FTTN)                                  43.952055   \n",
      "FIBER TO THE PREMISES                                     192.84269   \n",
      "HYBRID FIBER COAXIAL (HFC)                                77.855002   \n",
      "OTRAS TECNOLOGÍAS DE FIBRA (ANTES FTTX)                  161.947668   \n",
      "OTRAS TECNOLOGÍAS FIJAS                                  170.485876   \n",
      "OTRAS TECNOLOGÍAS INALÁMBRICAS                            35.002131   \n",
      "SATELITAL                                                 22.528975   \n",
      "WIFI                                                      66.023962   \n",
      "WIMAX                                                      8.810286   \n",
      "XDSL                                                       6.426645   \n",
      "\n",
      "                                                   VELOCIDAD SUBIDA  \n",
      "TECNOLOGÍA                                                           \n",
      "CABLE                                                     32.283483  \n",
      "FIBER TO THE ANTENNA (FTTA)                                3.445588  \n",
      "FIBER TO THE BUILDING O FIBER TO THE BASEMENT (...       352.257908  \n",
      "FIBER TO THE CABINET (FTTC)                             8843.792929  \n",
      "FIBER TO THE HOME (FTTH)                                 240.296015  \n",
      "FIBER TO THE NODE (FTTN)                                  43.969178  \n",
      "FIBER TO THE PREMISES                                    192.853198  \n",
      "HYBRID FIBER COAXIAL (HFC)                                 28.98182  \n",
      "OTRAS TECNOLOGÍAS DE FIBRA (ANTES FTTX)                  144.576877  \n",
      "OTRAS TECNOLOGÍAS FIJAS                                  107.375141  \n",
      "OTRAS TECNOLOGÍAS INALÁMBRICAS                            23.455188  \n",
      "SATELITAL                                                  3.567468  \n",
      "WIFI                                                       40.58175  \n",
      "WIMAX                                                       4.97496  \n",
      "XDSL                                                        1.19252  \n"
     ]
    }
   ],
   "source": [
    "print(combined_df.groupby('TECNOLOGÍA')[['VELOCIDAD BAJADA', 'VELOCIDAD SUBIDA']].mean())"
   ]
  },
  {
   "cell_type": "markdown",
   "metadata": {},
   "source": [
    "3. Análisis de Ingresos y Accesos"
   ]
  },
  {
   "cell_type": "markdown",
   "metadata": {},
   "source": [
    "Ingresos Totales por Año\n",
    "\n",
    "Se calculan los ingresos reportados por año para observar posibles tendencias de crecimiento o decrecimiento."
   ]
  },
  {
   "cell_type": "code",
   "execution_count": 100,
   "metadata": {},
   "outputs": [
    {
     "name": "stdout",
     "output_type": "stream",
     "text": [
      "AÑO\n",
      "2021    1.722473e+16\n",
      "2022    6.392402e+12\n",
      "2023    6.919404e+12\n",
      "2024    3.686093e+12\n",
      "Name: INGRESOS (Pesos), dtype: float64\n"
     ]
    }
   ],
   "source": [
    "ingresos_por_año = combined_df.groupby('AÑO')['INGRESOS (Pesos)'].sum()\n",
    "print(ingresos_por_año)"
   ]
  },
  {
   "cell_type": "markdown",
   "metadata": {},
   "source": [
    "Accesos Fijos a Internet por Año y Proveedor\n",
    "\n",
    "Se observa la cantidad total de accesos fijos reportados en Internet para cada año y proveedor."
   ]
  },
  {
   "cell_type": "code",
   "execution_count": 101,
   "metadata": {},
   "outputs": [
    {
     "data": {
      "text/html": [
       "<div>\n",
       "<style scoped>\n",
       "    .dataframe tbody tr th:only-of-type {\n",
       "        vertical-align: middle;\n",
       "    }\n",
       "\n",
       "    .dataframe tbody tr th {\n",
       "        vertical-align: top;\n",
       "    }\n",
       "\n",
       "    .dataframe thead th {\n",
       "        text-align: right;\n",
       "    }\n",
       "</style>\n",
       "<table border=\"1\" class=\"dataframe\">\n",
       "  <thead>\n",
       "    <tr style=\"text-align: right;\">\n",
       "      <th></th>\n",
       "      <th>AÑO</th>\n",
       "      <th>TRIMESTRE</th>\n",
       "      <th>PROVEEDOR</th>\n",
       "      <th>No. ACCESOS FIJOS A INTERNET</th>\n",
       "      <th>CÓDIGO DANE</th>\n",
       "      <th>DEPARTAMENTO</th>\n",
       "      <th>POBLACIÓN DANE</th>\n",
       "      <th>PENETRACIÓN</th>\n",
       "      <th>CÓDIGO DANE_dup1</th>\n",
       "      <th>MUNICIPIO</th>\n",
       "      <th>SEGMENTO</th>\n",
       "      <th>TECNOLOGÍA</th>\n",
       "      <th>VELOCIDAD BAJADA</th>\n",
       "      <th>VELOCIDAD SUBIDA</th>\n",
       "      <th>INGRESOS (Pesos)</th>\n",
       "      <th>TERMINAL</th>\n",
       "      <th>No. ABONADOS</th>\n",
       "    </tr>\n",
       "  </thead>\n",
       "  <tbody>\n",
       "    <tr>\n",
       "      <th>0</th>\n",
       "      <td>2021</td>\n",
       "      <td>4</td>\n",
       "      <td>INTER CONEXIONES R Y L S.A.S</td>\n",
       "      <td>24.0</td>\n",
       "      <td>NaN</td>\n",
       "      <td>NaN</td>\n",
       "      <td>NaN</td>\n",
       "      <td>NaN</td>\n",
       "      <td>NaN</td>\n",
       "      <td>NaN</td>\n",
       "      <td>NaN</td>\n",
       "      <td>NaN</td>\n",
       "      <td>NaN</td>\n",
       "      <td>NaN</td>\n",
       "      <td>1872000.0</td>\n",
       "      <td>NaN</td>\n",
       "      <td>NaN</td>\n",
       "    </tr>\n",
       "    <tr>\n",
       "      <th>1</th>\n",
       "      <td>2021</td>\n",
       "      <td>4</td>\n",
       "      <td>INTER CONEXIONES R Y L S.A.S</td>\n",
       "      <td>24.0</td>\n",
       "      <td>68</td>\n",
       "      <td>SANTANDER</td>\n",
       "      <td>NaN</td>\n",
       "      <td>NaN</td>\n",
       "      <td>68573</td>\n",
       "      <td>PUERTO PARRA</td>\n",
       "      <td>RESIDENCIAL - ESTRATO 1</td>\n",
       "      <td>FIBER TO THE HOME (FTTH)</td>\n",
       "      <td>8</td>\n",
       "      <td>8</td>\n",
       "      <td>1872000.0</td>\n",
       "      <td>NaN</td>\n",
       "      <td>NaN</td>\n",
       "    </tr>\n",
       "    <tr>\n",
       "      <th>2</th>\n",
       "      <td>2021</td>\n",
       "      <td>4</td>\n",
       "      <td>CONECTATE COMUNICACIONES DEL PACIFICO S.A.S</td>\n",
       "      <td>24.0</td>\n",
       "      <td>NaN</td>\n",
       "      <td>NaN</td>\n",
       "      <td>NaN</td>\n",
       "      <td>NaN</td>\n",
       "      <td>NaN</td>\n",
       "      <td>NaN</td>\n",
       "      <td>NaN</td>\n",
       "      <td>NaN</td>\n",
       "      <td>NaN</td>\n",
       "      <td>NaN</td>\n",
       "      <td>17447855.0</td>\n",
       "      <td>NaN</td>\n",
       "      <td>NaN</td>\n",
       "    </tr>\n",
       "    <tr>\n",
       "      <th>3</th>\n",
       "      <td>2021</td>\n",
       "      <td>4</td>\n",
       "      <td>CONECTATE COMUNICACIONES DEL PACIFICO S.A.S</td>\n",
       "      <td>9.0</td>\n",
       "      <td>76</td>\n",
       "      <td>VALLE DEL CAUCA</td>\n",
       "      <td>NaN</td>\n",
       "      <td>NaN</td>\n",
       "      <td>76892</td>\n",
       "      <td>YUMBO</td>\n",
       "      <td>CORPORATIVO</td>\n",
       "      <td>WIFI</td>\n",
       "      <td>20</td>\n",
       "      <td>10</td>\n",
       "      <td>17447855.0</td>\n",
       "      <td>NaN</td>\n",
       "      <td>NaN</td>\n",
       "    </tr>\n",
       "    <tr>\n",
       "      <th>4</th>\n",
       "      <td>2021</td>\n",
       "      <td>4</td>\n",
       "      <td>CONECTATE COMUNICACIONES DEL PACIFICO S.A.S</td>\n",
       "      <td>11.0</td>\n",
       "      <td>76</td>\n",
       "      <td>VALLE DEL CAUCA</td>\n",
       "      <td>NaN</td>\n",
       "      <td>NaN</td>\n",
       "      <td>76892</td>\n",
       "      <td>YUMBO</td>\n",
       "      <td>CORPORATIVO</td>\n",
       "      <td>WIFI</td>\n",
       "      <td>10</td>\n",
       "      <td>5</td>\n",
       "      <td>17447855.0</td>\n",
       "      <td>NaN</td>\n",
       "      <td>NaN</td>\n",
       "    </tr>\n",
       "  </tbody>\n",
       "</table>\n",
       "</div>"
      ],
      "text/plain": [
       "    AÑO  TRIMESTRE                                    PROVEEDOR   \n",
       "0  2021          4                 INTER CONEXIONES R Y L S.A.S  \\\n",
       "1  2021          4                 INTER CONEXIONES R Y L S.A.S   \n",
       "2  2021          4  CONECTATE COMUNICACIONES DEL PACIFICO S.A.S   \n",
       "3  2021          4  CONECTATE COMUNICACIONES DEL PACIFICO S.A.S   \n",
       "4  2021          4  CONECTATE COMUNICACIONES DEL PACIFICO S.A.S   \n",
       "\n",
       "   No. ACCESOS FIJOS A INTERNET CÓDIGO DANE     DEPARTAMENTO  POBLACIÓN DANE   \n",
       "0                          24.0         NaN              NaN             NaN  \\\n",
       "1                          24.0          68        SANTANDER             NaN   \n",
       "2                          24.0         NaN              NaN             NaN   \n",
       "3                           9.0          76  VALLE DEL CAUCA             NaN   \n",
       "4                          11.0          76  VALLE DEL CAUCA             NaN   \n",
       "\n",
       "   PENETRACIÓN CÓDIGO DANE_dup1     MUNICIPIO                 SEGMENTO   \n",
       "0          NaN              NaN           NaN                      NaN  \\\n",
       "1          NaN            68573  PUERTO PARRA  RESIDENCIAL - ESTRATO 1   \n",
       "2          NaN              NaN           NaN                      NaN   \n",
       "3          NaN            76892         YUMBO              CORPORATIVO   \n",
       "4          NaN            76892         YUMBO              CORPORATIVO   \n",
       "\n",
       "                 TECNOLOGÍA VELOCIDAD BAJADA VELOCIDAD SUBIDA   \n",
       "0                       NaN              NaN              NaN  \\\n",
       "1  FIBER TO THE HOME (FTTH)                8                8   \n",
       "2                       NaN              NaN              NaN   \n",
       "3                      WIFI               20               10   \n",
       "4                      WIFI               10                5   \n",
       "\n",
       "   INGRESOS (Pesos) TERMINAL  No. ABONADOS  \n",
       "0         1872000.0      NaN           NaN  \n",
       "1         1872000.0      NaN           NaN  \n",
       "2        17447855.0      NaN           NaN  \n",
       "3        17447855.0      NaN           NaN  \n",
       "4        17447855.0      NaN           NaN  "
      ]
     },
     "execution_count": 101,
     "metadata": {},
     "output_type": "execute_result"
    }
   ],
   "source": [
    "combined_df.head()"
   ]
  },
  {
   "cell_type": "code",
   "execution_count": 102,
   "metadata": {},
   "outputs": [
    {
     "name": "stdout",
     "output_type": "stream",
     "text": [
      "AÑO   PROVEEDOR                            \n",
      "2021   SERVICE WELL NET S.A.S                    22.0\n",
      "      10COM SAS                                 148.0\n",
      "      1NITEC S.A.S.                             206.0\n",
      "      718 TRADING CO SAS                        212.0\n",
      "      @DIGITAL GROUP SAS                        664.0\n",
      "                                                ...  \n",
      "2024  ZONA VIRTUAL CAUCA SAS                    558.0\n",
      "      ZONA VIRTUAL DEL SUROCCIDENTE SAS         856.0\n",
      "      ZONA WIFI INTERNETJHONF S.A.S            1549.0\n",
      "      ZONALIBRE INGENIERIA S.A.S               1652.0\n",
      "      ZUMA COMUNICACIONES DE COLOMBIA S.A.S    4470.0\n",
      "Name: No. ACCESOS FIJOS A INTERNET, Length: 4274, dtype: float64\n"
     ]
    }
   ],
   "source": [
    "accesos_por_año_proveedor = combined_df.groupby(['AÑO', 'PROVEEDOR'])['No. ACCESOS FIJOS A INTERNET'].sum()\n",
    "print(accesos_por_año_proveedor)"
   ]
  },
  {
   "cell_type": "markdown",
   "metadata": {},
   "source": [
    "Ingresos vs. Accesos\n",
    "\n",
    "Se examina la relación entre los ingresos (INGRESOS (Pesos)) y la cantidad de accesos (No. acceso fijos a Internet). Esto puede indicar el promedio de ingresos por acceso."
   ]
  },
  {
   "cell_type": "code",
   "execution_count": 104,
   "metadata": {},
   "outputs": [
    {
     "name": "stdout",
     "output_type": "stream",
     "text": [
      "                                                         Ingresos por Acceso\n",
      "PROVEEDOR                                          AÑO                      \n",
      " INTERNET Y TELEVISIÓN DE COLOMBIA SOCIEDAD POR... 2022                  NaN\n",
      "                                                   2023                  NaN\n",
      "                                                   2024                  NaN\n",
      " SERVICE WELL NET S.A.S                            2021                  NaN\n",
      " SERVICIOS DE COMUNICACIONES INTEGRALES S.A.S      2022                  NaN\n",
      "...                                                                      ...\n",
      "ZULDEMAYDA COMUNICACIONES                          2023         1.394372e+05\n",
      "ZUMA COMUNICACIONES DE COLOMBIA S.A.S              2021         4.519354e+08\n",
      "                                                   2022         3.117437e+05\n",
      "                                                   2023         3.575037e+05\n",
      "                                                   2024         3.154508e+05\n",
      "\n",
      "[4274 rows x 1 columns]\n"
     ]
    }
   ],
   "source": [
    "combined_df['Ingresos por Acceso'] = combined_df['INGRESOS (Pesos)'] / combined_df['No. ACCESOS FIJOS A INTERNET']\n",
    "print(combined_df[['PROVEEDOR', 'AÑO', 'Ingresos por Acceso']].groupby(['PROVEEDOR', 'AÑO']).mean())"
   ]
  },
  {
   "cell_type": "markdown",
   "metadata": {},
   "source": [
    "4. Análisis Geográfico"
   ]
  },
  {
   "cell_type": "markdown",
   "metadata": {},
   "source": [
    "Distribución Geográfica de Accesos\n",
    "\n",
    "Se observa la cantidad de accesos por departamento y municipio. Esto puede ayudarte a ver en qué regiones hay más conexiones fijas"
   ]
  },
  {
   "cell_type": "code",
   "execution_count": 105,
   "metadata": {},
   "outputs": [
    {
     "name": "stdout",
     "output_type": "stream",
     "text": [
      "DEPARTAMENTO\n",
      "AMAZONAS                                                       35397.0\n",
      "ANTIOQUIA                                                   37032772.0\n",
      "ARAUCA                                                        667846.0\n",
      "ARCHIPIÉLAGO DE SAN ANDRÉS, PROVIDENCIA Y SANTA CATALINA      197382.0\n",
      "ATLÁNTICO                                                   10400472.0\n",
      "BOGOTÁ D.C.                                                 27095066.0\n",
      "BOLÍVAR                                                      5882007.0\n",
      "BOYACÁ                                                       3814298.0\n",
      "CALDAS                                                       3931823.0\n",
      "CAQUETA                                                       782696.0\n",
      "CASANARE                                                     1267949.0\n",
      "CAUCA                                                        2255737.0\n",
      "CESAR                                                        3036827.0\n",
      "CHOCÓ                                                         597345.0\n",
      "CUNDINAMARCA                                                14523186.0\n",
      "CÓRDOBA                                                      2796606.0\n",
      "GUAINÍA                                                        22443.0\n",
      "GUAVIARE                                                       45778.0\n",
      "HUILA                                                        3423991.0\n",
      "LA GUAJIRA                                                   1235859.0\n",
      "MAGDALENA                                                    3467124.0\n",
      "META                                                         3732760.0\n",
      "NARIÑO                                                       2937091.0\n",
      "NORTE DE SANTANDER                                           4458752.0\n",
      "PUTUMAYO                                                      362607.0\n",
      "QUINDÍO                                                      2949064.0\n",
      "RISARALDA                                                    5017884.0\n",
      "SANTANDER                                                    9810234.0\n",
      "SUCRE                                                        1564014.0\n",
      "TOLIMA                                                       5062134.0\n",
      "VALLE DEL CAUCA                                             20907303.0\n",
      "VAUPÉS                                                          4739.0\n",
      "VICHADA                                                        30103.0\n",
      "Name: No. ACCESOS FIJOS A INTERNET, dtype: float64\n"
     ]
    }
   ],
   "source": [
    "accesos_por_departamento = combined_df.groupby('DEPARTAMENTO')['No. ACCESOS FIJOS A INTERNET'].sum()\n",
    "print(accesos_por_departamento)"
   ]
  },
  {
   "cell_type": "markdown",
   "metadata": {},
   "source": [
    "Velocidad Media por Departamento\n",
    "\n",
    "Se examina las velocidades promedio de bajada y subida de Internet para cada departamento."
   ]
  },
  {
   "cell_type": "code",
   "execution_count": 106,
   "metadata": {},
   "outputs": [
    {
     "name": "stdout",
     "output_type": "stream",
     "text": [
      "                                                   VELOCIDAD BAJADA   \n",
      "DEPARTAMENTO                                                          \n",
      "AMAZONAS                                                  14.251375  \\\n",
      "ANTIOQUIA                                                  68.83234   \n",
      "ARAUCA                                                    40.371116   \n",
      "ARCHIPIÉLAGO DE SAN ANDRÉS, PROVIDENCIA Y SANTA...         9.262947   \n",
      "ATLÁNTICO                                                135.598002   \n",
      "BOGOTÁ D.C.                                              249.397562   \n",
      "BOLÍVAR                                                   58.161902   \n",
      "BOYACÁ                                                    84.371816   \n",
      "CALDAS                                                   125.958417   \n",
      "CAQUETA                                                   64.243268   \n",
      "CASANARE                                                  96.354748   \n",
      "CAUCA                                                     62.091326   \n",
      "CESAR                                                    113.320534   \n",
      "CHOCÓ                                                     34.677509   \n",
      "CUNDINAMARCA                                              76.785919   \n",
      "CÓRDOBA                                                    48.27881   \n",
      "GUAINÍA                                                   18.848906   \n",
      "GUAVIARE                                                  44.207384   \n",
      "HUILA                                                   2287.863536   \n",
      "LA GUAJIRA                                                27.071638   \n",
      "MAGDALENA                                                 55.096293   \n",
      "META                                                      73.400391   \n",
      "NARIÑO                                                    79.738448   \n",
      "NORTE DE SANTANDER                                        61.209422   \n",
      "PUTUMAYO                                                  71.739985   \n",
      "QUINDÍO                                                   40.987596   \n",
      "RISARALDA                                                 52.024346   \n",
      "SANTANDER                                                 68.220943   \n",
      "SUCRE                                                     47.106088   \n",
      "TOLIMA                                                    50.016449   \n",
      "VALLE DEL CAUCA                                           66.703714   \n",
      "VAUPÉS                                                   191.682051   \n",
      "VICHADA                                                    14.56028   \n",
      "\n",
      "                                                   VELOCIDAD SUBIDA  \n",
      "DEPARTAMENTO                                                         \n",
      "AMAZONAS                                                   9.210719  \n",
      "ANTIOQUIA                                                 42.702751  \n",
      "ARAUCA                                                    31.849997  \n",
      "ARCHIPIÉLAGO DE SAN ANDRÉS, PROVIDENCIA Y SANTA...         3.469115  \n",
      "ATLÁNTICO                                                104.826151  \n",
      "BOGOTÁ D.C.                                              239.835101  \n",
      "BOLÍVAR                                                   36.015211  \n",
      "BOYACÁ                                                    64.617674  \n",
      "CALDAS                                                     70.58329  \n",
      "CAQUETA                                                   43.805808  \n",
      "CASANARE                                                  78.852074  \n",
      "CAUCA                                                     36.695567  \n",
      "CESAR                                                     96.362678  \n",
      "CHOCÓ                                                     24.505758  \n",
      "CUNDINAMARCA                                              47.910221  \n",
      "CÓRDOBA                                                   27.958174  \n",
      "GUAINÍA                                                   13.062981  \n",
      "GUAVIARE                                                  37.968189  \n",
      "HUILA                                                   2154.440386  \n",
      "LA GUAJIRA                                                 8.579482  \n",
      "MAGDALENA                                                 33.772091  \n",
      "META                                                      50.452052  \n",
      "NARIÑO                                                     62.31499  \n",
      "NORTE DE SANTANDER                                        36.587819  \n",
      "PUTUMAYO                                                  64.586012  \n",
      "QUINDÍO                                                    17.57283  \n",
      "RISARALDA                                                 21.494019  \n",
      "SANTANDER                                                  41.30059  \n",
      "SUCRE                                                     23.347077  \n",
      "TOLIMA                                                    27.326862  \n",
      "VALLE DEL CAUCA                                           39.622985  \n",
      "VAUPÉS                                                    95.611769  \n",
      "VICHADA                                                   10.706947  \n"
     ]
    }
   ],
   "source": [
    "velocidades_por_departamento = combined_df.groupby('DEPARTAMENTO')[['VELOCIDAD BAJADA', 'VELOCIDAD SUBIDA']].mean()\n",
    "print(velocidades_por_departamento)"
   ]
  },
  {
   "cell_type": "markdown",
   "metadata": {},
   "source": [
    "5. Análisis de Tendencias"
   ]
  },
  {
   "cell_type": "markdown",
   "metadata": {},
   "source": [
    "Evolución de la Velocidad de Internet\n",
    "\n",
    "Se observa cómo han cambiado las velocidades promedio de bajada y subida a lo largo del tiempo."
   ]
  },
  {
   "cell_type": "code",
   "execution_count": 107,
   "metadata": {},
   "outputs": [
    {
     "name": "stdout",
     "output_type": "stream",
     "text": [
      "     VELOCIDAD BAJADA VELOCIDAD SUBIDA\n",
      "AÑO                                   \n",
      "2021       147.562782       118.969846\n",
      "2022              NaN              NaN\n",
      "2023              NaN              NaN\n",
      "2024              NaN              NaN\n"
     ]
    }
   ],
   "source": [
    "velocidad_anual = combined_df.groupby('AÑO')[['VELOCIDAD BAJADA', 'VELOCIDAD SUBIDA']].mean()\n",
    "print(velocidad_anual)"
   ]
  },
  {
   "cell_type": "markdown",
   "metadata": {},
   "source": [
    "Crecimiento en el Número de Accesos y Abonados\n",
    "\n",
    "Se observa cómo ha crecido o decrecido el número de accesos y abonados a lo largo de los años."
   ]
  },
  {
   "cell_type": "code",
   "execution_count": 108,
   "metadata": {},
   "outputs": [
    {
     "name": "stdout",
     "output_type": "stream",
     "text": [
      "AÑO\n",
      "2021    31727960.0\n",
      "2022    96664627.0\n",
      "2023    99187017.0\n",
      "2024    49661445.0\n",
      "Name: No. ACCESOS FIJOS A INTERNET, dtype: float64\n",
      "AÑO\n",
      "2021    0.0\n",
      "2022    0.0\n",
      "2023    0.0\n",
      "2024    0.0\n",
      "Name: No. ABONADOS, dtype: float64\n"
     ]
    }
   ],
   "source": [
    "accesos_anuales = combined_df.groupby('AÑO')['No. ACCESOS FIJOS A INTERNET'].sum()\n",
    "abonados_anuales = combined_df.groupby('AÑO')['No. ABONADOS'].sum()\n",
    "print(accesos_anuales)\n",
    "print(abonados_anuales)"
   ]
  },
  {
   "cell_type": "markdown",
   "metadata": {},
   "source": [
    "6. Visualización de Datos"
   ]
  },
  {
   "cell_type": "markdown",
   "metadata": {},
   "source": [
    "Utiliza gráficos para visualizar las tendencias encontradas. Algunos ejemplos:"
   ]
  },
  {
   "cell_type": "code",
   "execution_count": 110,
   "metadata": {},
   "outputs": [
    {
     "data": {
      "image/png": "[encoded data removed]",
      "text/plain": [
       "<Figure size 640x480 with 1 Axes>"
      ]
     },
     "metadata": {},
     "output_type": "display_data"
    },
    {
     "data": {
      "image/png": "[encoded data removed]",
      "text/plain": [
       "<Figure size 640x480 with 1 Axes>"
      ]
     },
     "metadata": {},
     "output_type": "display_data"
    }
   ],
   "source": [
    "import matplotlib.pyplot as plt\n",
    "\n",
    "# Ingresos Totales por Año\n",
    "ingresos_por_año.plot(kind='bar')\n",
    "plt.title(\"Ingresos Totales por Año\")\n",
    "plt.xlabel(\"Año\")\n",
    "plt.ylabel(\"Ingresos (Pesos)\")\n",
    "plt.show()\n",
    "\n",
    "# Velocidad Media de Bajada por Año\n",
    "velocidad_anual['VELOCIDAD BAJADA'].plot(kind='line')\n",
    "plt.title(\"Velocidad Media de Bajada por Año\")\n",
    "plt.xlabel(\"Año\")\n",
    "plt.ylabel(\"Velocidad de Bajada (Mbps)\")\n",
    "plt.show()"
   ]
  }
 ],
 "metadata": {
  "kernelspec": {
   "display_name": "Python 3",
   "language": "python",
   "name": "python3"
  },
  "language_info": {
   "codemirror_mode": {
    "name": "ipython",
    "version": 3
   },
   "file_extension": ".py",
   "mimetype": "text/x-python",
   "name": "python",
   "nbconvert_exporter": "python",
   "pygments_lexer": "ipython3",
   "version": "3.11.4"
  }
 },
 "nbformat": 4,
 "nbformat_minor": 2
}
