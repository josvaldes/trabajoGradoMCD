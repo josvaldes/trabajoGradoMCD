version https://git-lfs.github.com/spec/v1
oid sha256:58392b4454001766b1fb4aa5d24d112b9cc31df54496528c165cd646b4dcfbb9
size 29467349
