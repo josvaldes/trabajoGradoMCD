version https://git-lfs.github.com/spec/v1
oid sha256:39340e2bf185779de8022c31d8d358acfd52f2451d61dd5ccd3e80dd2ba7121b
size 22199
