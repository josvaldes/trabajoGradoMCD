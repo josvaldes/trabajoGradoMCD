version https://git-lfs.github.com/spec/v1
oid sha256:d838f5ea8c5ef97b279b5e4352ca063add3c892c789dea7b5af803da8e79ff32
size 24851147
