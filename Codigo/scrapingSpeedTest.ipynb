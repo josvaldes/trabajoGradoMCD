version https://git-lfs.github.com/spec/v1
oid sha256:77e9e5ab64929db2dbc382a1ed6f65bdf08624da636dd9be4a09e8829727d2bf
size 58572
