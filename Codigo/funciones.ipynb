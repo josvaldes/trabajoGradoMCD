version https://git-lfs.github.com/spec/v1
oid sha256:a597e2d9c1fc14dc13295f50938702bba51a0b771e974e35c232171f8d8f85d6
size 88796
